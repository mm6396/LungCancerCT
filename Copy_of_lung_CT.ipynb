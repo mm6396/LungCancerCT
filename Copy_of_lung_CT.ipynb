{
  "nbformat": 4,
  "nbformat_minor": 0,
  "metadata": {
    "colab": {
      "provenance": [],
      "include_colab_link": true
    },
    "kernelspec": {
      "name": "python3",
      "display_name": "Python 3"
    },
    "language_info": {
      "name": "python"
    },
    "accelerator": "GPU"
  },
  "cells": [
    {
      "cell_type": "markdown",
      "metadata": {
        "id": "view-in-github",
        "colab_type": "text"
      },
      "source": [
        "<a href=\"https://colab.research.google.com/github/mm6396/LungCancerCT/blob/main/Copy_of_lung_CT.ipynb\" target=\"_parent\"><img src=\"https://colab.research.google.com/assets/colab-badge.svg\" alt=\"Open In Colab\"/></a>"
      ]
    },
    {
      "cell_type": "markdown",
      "source": [
        "this code is about the classification of the chest CT images into one of the four cancerous conditions namely adenocarcinoma, large cell carcinoma, squamous cell carcinoma and normal."
      ],
      "metadata": {
        "id": "TtNbkrL-PMlB"
      }
    },
    {
      "cell_type": "code",
      "execution_count": null,
      "metadata": {
        "id": "JyqpGx_FGGgR"
      },
      "outputs": [],
      "source": [
        "import numpy as np\n",
        "import numpy as np\n",
        "import pandas as pd\n",
        "import matplotlib.pyplot as plt\n",
        "import tensorflow as tf\n",
        "from keras import Sequential\n",
        "from tensorflow.keras.layers import *\n",
        "from tensorflow.keras.models import * \n",
        "from tensorflow.keras.preprocessing import image"
      ]
    },
    {
      "cell_type": "markdown",
      "source": [
        "the dataset consists of about 1000 different lung CT images."
      ],
      "metadata": {
        "id": "MW7VP0wGQC5V"
      }
    },
    {
      "cell_type": "code",
      "source": [
        "!unzip '/content/drive/MyDrive/breast CT.zip'"
      ],
      "metadata": {
        "id": "_ASv1MCQGwqk",
        "outputId": "e0519aed-ed2a-4237-acb9-e930cb679989",
        "colab": {
          "base_uri": "https://localhost:8080/"
        }
      },
      "execution_count": null,
      "outputs": [
        {
          "output_type": "stream",
          "name": "stdout",
          "text": [
            "unzip:  cannot find or open /content/drive/MyDrive/breast CT.zip, /content/drive/MyDrive/breast CT.zip.zip or /content/drive/MyDrive/breast CT.zip.ZIP.\n"
          ]
        }
      ]
    },
    {
      "cell_type": "markdown",
      "source": [
        "I have used imagedatagenerator to generate samples from the given image datasets by applying the specified transforms."
      ],
      "metadata": {
        "id": "Slk1m3-wQMWp"
      }
    },
    {
      "cell_type": "code",
      "source": [
        "train_datagen = image.ImageDataGenerator(\n",
        "    rotation_range=15,\n",
        "    shear_range=0.2,\n",
        "    zoom_range=0.2,\n",
        "    horizontal_flip=True,\n",
        "    fill_mode='nearest',\n",
        "    width_shift_range=0.1,\n",
        "    height_shift_range=0.1\n",
        ")\n",
        "test_datagen= image.ImageDataGenerator(    rotation_range=15,\n",
        "    shear_range=0.2,\n",
        "    zoom_range=0.2,\n",
        "    horizontal_flip=True,\n",
        "    fill_mode='nearest',\n",
        "    width_shift_range=0.1,\n",
        "    height_shift_range=0.1)"
      ],
      "metadata": {
        "id": "_SyNkU-QG29J"
      },
      "execution_count": null,
      "outputs": []
    },
    {
      "cell_type": "code",
      "source": [
        "train_generator = train_datagen.flow_from_directory(\n",
        "    '/Data/train',\n",
        "    target_size = (224,224),\n",
        "    batch_size = 8,\n",
        "    class_mode = 'categorical')\n",
        "validation_generator = test_datagen.flow_from_directory(\n",
        "    '/Data/test',\n",
        "    target_size = (224,224),\n",
        "    batch_size = 8,\n",
        "    shuffle=True,\n",
        "    class_mode = 'categorical')"
      ],
      "metadata": {
        "colab": {
          "base_uri": "https://localhost:8080/",
          "height": 443
        },
        "id": "i4LbtpsZG4JM",
        "outputId": "368fe977-6769-4997-a48b-e759cf9d12b7"
      },
      "execution_count": null,
      "outputs": [
        {
          "output_type": "error",
          "ename": "FileNotFoundError",
          "evalue": "ignored",
          "traceback": [
            "\u001b[0;31m---------------------------------------------------------------------------\u001b[0m",
            "\u001b[0;31mFileNotFoundError\u001b[0m                         Traceback (most recent call last)",
            "\u001b[0;32m<ipython-input-13-0081c0e1a4c4>\u001b[0m in \u001b[0;36m<module>\u001b[0;34m\u001b[0m\n\u001b[1;32m      3\u001b[0m     \u001b[0mtarget_size\u001b[0m \u001b[0;34m=\u001b[0m \u001b[0;34m(\u001b[0m\u001b[0;36m224\u001b[0m\u001b[0;34m,\u001b[0m\u001b[0;36m224\u001b[0m\u001b[0;34m)\u001b[0m\u001b[0;34m,\u001b[0m\u001b[0;34m\u001b[0m\u001b[0;34m\u001b[0m\u001b[0m\n\u001b[1;32m      4\u001b[0m     \u001b[0mbatch_size\u001b[0m \u001b[0;34m=\u001b[0m \u001b[0;36m8\u001b[0m\u001b[0;34m,\u001b[0m\u001b[0;34m\u001b[0m\u001b[0;34m\u001b[0m\u001b[0m\n\u001b[0;32m----> 5\u001b[0;31m     class_mode = 'categorical')\n\u001b[0m\u001b[1;32m      6\u001b[0m validation_generator = test_datagen.flow_from_directory(\n\u001b[1;32m      7\u001b[0m     \u001b[0;34m'/Data/test'\u001b[0m\u001b[0;34m,\u001b[0m\u001b[0;34m\u001b[0m\u001b[0;34m\u001b[0m\u001b[0m\n",
            "\u001b[0;32m/usr/local/lib/python3.7/dist-packages/keras/preprocessing/image.py\u001b[0m in \u001b[0;36mflow_from_directory\u001b[0;34m(self, directory, target_size, color_mode, classes, class_mode, batch_size, shuffle, seed, save_to_dir, save_prefix, save_format, follow_links, subset, interpolation, keep_aspect_ratio)\u001b[0m\n\u001b[1;32m   1485\u001b[0m         \u001b[0msubset\u001b[0m\u001b[0;34m=\u001b[0m\u001b[0msubset\u001b[0m\u001b[0;34m,\u001b[0m\u001b[0;34m\u001b[0m\u001b[0;34m\u001b[0m\u001b[0m\n\u001b[1;32m   1486\u001b[0m         \u001b[0minterpolation\u001b[0m\u001b[0;34m=\u001b[0m\u001b[0minterpolation\u001b[0m\u001b[0;34m,\u001b[0m\u001b[0;34m\u001b[0m\u001b[0;34m\u001b[0m\u001b[0m\n\u001b[0;32m-> 1487\u001b[0;31m         dtype=self.dtype)\n\u001b[0m\u001b[1;32m   1488\u001b[0m \u001b[0;34m\u001b[0m\u001b[0m\n\u001b[1;32m   1489\u001b[0m   def flow_from_dataframe(self,\n",
            "\u001b[0;32m/usr/local/lib/python3.7/dist-packages/keras/preprocessing/image.py\u001b[0m in \u001b[0;36m__init__\u001b[0;34m(self, directory, image_data_generator, target_size, color_mode, classes, class_mode, batch_size, shuffle, seed, data_format, save_to_dir, save_prefix, save_format, follow_links, subset, interpolation, keep_aspect_ratio, dtype)\u001b[0m\n\u001b[1;32m    505\u001b[0m     \u001b[0;32mif\u001b[0m \u001b[0;32mnot\u001b[0m \u001b[0mclasses\u001b[0m\u001b[0;34m:\u001b[0m\u001b[0;34m\u001b[0m\u001b[0;34m\u001b[0m\u001b[0m\n\u001b[1;32m    506\u001b[0m       \u001b[0mclasses\u001b[0m \u001b[0;34m=\u001b[0m \u001b[0;34m[\u001b[0m\u001b[0;34m]\u001b[0m\u001b[0;34m\u001b[0m\u001b[0;34m\u001b[0m\u001b[0m\n\u001b[0;32m--> 507\u001b[0;31m       \u001b[0;32mfor\u001b[0m \u001b[0msubdir\u001b[0m \u001b[0;32min\u001b[0m \u001b[0msorted\u001b[0m\u001b[0;34m(\u001b[0m\u001b[0mos\u001b[0m\u001b[0;34m.\u001b[0m\u001b[0mlistdir\u001b[0m\u001b[0;34m(\u001b[0m\u001b[0mdirectory\u001b[0m\u001b[0;34m)\u001b[0m\u001b[0;34m)\u001b[0m\u001b[0;34m:\u001b[0m\u001b[0;34m\u001b[0m\u001b[0;34m\u001b[0m\u001b[0m\n\u001b[0m\u001b[1;32m    508\u001b[0m         \u001b[0;32mif\u001b[0m \u001b[0mos\u001b[0m\u001b[0;34m.\u001b[0m\u001b[0mpath\u001b[0m\u001b[0;34m.\u001b[0m\u001b[0misdir\u001b[0m\u001b[0;34m(\u001b[0m\u001b[0mos\u001b[0m\u001b[0;34m.\u001b[0m\u001b[0mpath\u001b[0m\u001b[0;34m.\u001b[0m\u001b[0mjoin\u001b[0m\u001b[0;34m(\u001b[0m\u001b[0mdirectory\u001b[0m\u001b[0;34m,\u001b[0m \u001b[0msubdir\u001b[0m\u001b[0;34m)\u001b[0m\u001b[0;34m)\u001b[0m\u001b[0;34m:\u001b[0m\u001b[0;34m\u001b[0m\u001b[0;34m\u001b[0m\u001b[0m\n\u001b[1;32m    509\u001b[0m           \u001b[0mclasses\u001b[0m\u001b[0;34m.\u001b[0m\u001b[0mappend\u001b[0m\u001b[0;34m(\u001b[0m\u001b[0msubdir\u001b[0m\u001b[0;34m)\u001b[0m\u001b[0;34m\u001b[0m\u001b[0;34m\u001b[0m\u001b[0m\n",
            "\u001b[0;31mFileNotFoundError\u001b[0m: [Errno 2] No such file or directory: '/Data/train'"
          ]
        }
      ]
    },
    {
      "cell_type": "code",
      "source": [
        "from google.colab import drive\n",
        "drive.mount('/content/drive')"
      ],
      "metadata": {
        "id": "pjdiCs2fkaFE"
      },
      "execution_count": null,
      "outputs": []
    },
    {
      "cell_type": "markdown",
      "source": [
        "I have developed a transfer learning based EfficientNetB3 model that has been trained on imagenet dataset. I have added some additional layers to the basic model."
      ],
      "metadata": {
        "id": "PFEWiBVlQY1q"
      }
    },
    {
      "cell_type": "code",
      "source": [
        "base_model = tf.keras.applications.EfficientNetB3(weights='imagenet', input_shape=(224,224,3), include_top=False)\n",
        "\n",
        "for layer in base_model.layers:\n",
        "    layer.trainable=True\n",
        "model = Sequential()\n",
        "model.add(base_model)\n",
        "model.add(GaussianNoise(0.25))\n",
        "model.add(GlobalAveragePooling2D())\n",
        "model.add(Dense(1024,activation='relu'))\n",
        "model.add(BatchNormalization())\n",
        "model.add(GaussianNoise(0.25))\n",
        "model.add(Dropout(0.65))\n",
        "model.add(Dense(4, activation='sigmoid'))\n",
        "model.summary()"
      ],
      "metadata": {
        "id": "e1qnH-5tG7Pu"
      },
      "execution_count": null,
      "outputs": []
    },
    {
      "cell_type": "markdown",
      "source": [
        "The model has been compiled using cross entropy loss function, adam optimiser and the following metrics:\n",
        "\n",
        "accuracy\n",
        "\n",
        "AUC\n",
        "\n",
        "precision\n",
        "\n",
        "recall"
      ],
      "metadata": {
        "id": "EbptO2xjQl2L"
      }
    },
    {
      "cell_type": "code",
      "source": [
        "model.compile(loss='categorical_crossentropy',\n",
        "              optimizer=tf.keras.optimizers.Adam(learning_rate=0.00001),\n",
        "              metrics=['accuracy','AUC','Precision','Recall'])"
      ],
      "metadata": {
        "id": "FN9nnRGjG87i"
      },
      "execution_count": null,
      "outputs": []
    },
    {
      "cell_type": "code",
      "source": [
        "from tensorflow.keras.callbacks import ModelCheckpoint, EarlyStopping\n",
        "es=EarlyStopping(monitor='val_loss',patience=3)\n",
        "history = model.fit(\n",
        "    train_generator,\n",
        "    epochs=30,\n",
        "    validation_data=validation_generator,\n",
        "    steps_per_epoch= 75\n",
        "    )"
      ],
      "metadata": {
        "colab": {
          "base_uri": "https://localhost:8080/"
        },
        "id": "Q3jD0vsxG-qd",
        "outputId": "bfe9ea82-8e11-41ef-c402-5733394a923d"
      },
      "execution_count": null,
      "outputs": [
        {
          "output_type": "stream",
          "name": "stdout",
          "text": [
            "Epoch 1/30\n",
            "75/75 [==============================] - 48s 323ms/step - loss: 1.8794 - accuracy: 0.2714 - auc: 0.5521 - precision: 0.2794 - recall: 0.5528 - val_loss: 1.4045 - val_accuracy: 0.3810 - val_auc: 0.5677 - val_precision: 0.3341 - val_recall: 0.4857\n",
            "Epoch 2/30\n",
            "75/75 [==============================] - 18s 242ms/step - loss: 1.4837 - accuracy: 0.4204 - auc: 0.6622 - precision: 0.3411 - recall: 0.6834 - val_loss: 1.3872 - val_accuracy: 0.3778 - val_auc: 0.5883 - val_precision: 0.3372 - val_recall: 0.4571\n",
            "Epoch 3/30\n",
            "75/75 [==============================] - 18s 245ms/step - loss: 1.3802 - accuracy: 0.4673 - auc: 0.7053 - precision: 0.3480 - recall: 0.7152 - val_loss: 1.4425 - val_accuracy: 0.3873 - val_auc: 0.5812 - val_precision: 0.3350 - val_recall: 0.4159\n",
            "Epoch 4/30\n",
            "75/75 [==============================] - 18s 243ms/step - loss: 1.3499 - accuracy: 0.5126 - auc: 0.7151 - precision: 0.3604 - recall: 0.7052 - val_loss: 1.5505 - val_accuracy: 0.3524 - val_auc: 0.5812 - val_precision: 0.3108 - val_recall: 0.4095\n",
            "Epoch 5/30\n",
            "75/75 [==============================] - 18s 244ms/step - loss: 1.2565 - accuracy: 0.5193 - auc: 0.7469 - precision: 0.3820 - recall: 0.7454 - val_loss: 1.5852 - val_accuracy: 0.3683 - val_auc: 0.6039 - val_precision: 0.3301 - val_recall: 0.4317\n",
            "Epoch 6/30\n",
            "75/75 [==============================] - 19s 258ms/step - loss: 1.1248 - accuracy: 0.5595 - auc: 0.7774 - precision: 0.4042 - recall: 0.7772 - val_loss: 1.4907 - val_accuracy: 0.4603 - val_auc: 0.6669 - val_precision: 0.3744 - val_recall: 0.5206\n",
            "Epoch 7/30\n",
            "75/75 [==============================] - 18s 245ms/step - loss: 1.1159 - accuracy: 0.5477 - auc: 0.7831 - precision: 0.4014 - recall: 0.7705 - val_loss: 1.5283 - val_accuracy: 0.4794 - val_auc: 0.6827 - val_precision: 0.3969 - val_recall: 0.5619\n",
            "Epoch 8/30\n",
            "75/75 [==============================] - 19s 246ms/step - loss: 0.9080 - accuracy: 0.6566 - auc: 0.8280 - precision: 0.4271 - recall: 0.8291 - val_loss: 1.3589 - val_accuracy: 0.5111 - val_auc: 0.7260 - val_precision: 0.4020 - val_recall: 0.6317\n",
            "Epoch 9/30\n",
            "75/75 [==============================] - 18s 243ms/step - loss: 0.8762 - accuracy: 0.6482 - auc: 0.8449 - precision: 0.4474 - recall: 0.8543 - val_loss: 1.2304 - val_accuracy: 0.5111 - val_auc: 0.7499 - val_precision: 0.4167 - val_recall: 0.6984\n",
            "Epoch 10/30\n",
            "75/75 [==============================] - 18s 243ms/step - loss: 0.9133 - accuracy: 0.6566 - auc: 0.8345 - precision: 0.4378 - recall: 0.8308 - val_loss: 1.1288 - val_accuracy: 0.5841 - val_auc: 0.7747 - val_precision: 0.4200 - val_recall: 0.7333\n",
            "Epoch 11/30\n",
            "75/75 [==============================] - 20s 261ms/step - loss: 0.8927 - accuracy: 0.6650 - auc: 0.8447 - precision: 0.4386 - recall: 0.8375 - val_loss: 1.2286 - val_accuracy: 0.5429 - val_auc: 0.7641 - val_precision: 0.3972 - val_recall: 0.7111\n",
            "Epoch 12/30\n",
            "75/75 [==============================] - 19s 248ms/step - loss: 0.8376 - accuracy: 0.6499 - auc: 0.8497 - precision: 0.4455 - recall: 0.8693 - val_loss: 1.1008 - val_accuracy: 0.6000 - val_auc: 0.8021 - val_precision: 0.4529 - val_recall: 0.7778\n",
            "Epoch 13/30\n",
            "75/75 [==============================] - 19s 252ms/step - loss: 0.8215 - accuracy: 0.6935 - auc: 0.8585 - precision: 0.4633 - recall: 0.8559 - val_loss: 0.9742 - val_accuracy: 0.6032 - val_auc: 0.8143 - val_precision: 0.4446 - val_recall: 0.7905\n",
            "Epoch 14/30\n",
            "75/75 [==============================] - 19s 247ms/step - loss: 0.7795 - accuracy: 0.6935 - auc: 0.8680 - precision: 0.4535 - recall: 0.8492 - val_loss: 1.0335 - val_accuracy: 0.6222 - val_auc: 0.8085 - val_precision: 0.4351 - val_recall: 0.7556\n",
            "Epoch 15/30\n",
            "75/75 [==============================] - 18s 243ms/step - loss: 0.7030 - accuracy: 0.7102 - auc: 0.8825 - precision: 0.4785 - recall: 0.8961 - val_loss: 0.9916 - val_accuracy: 0.6476 - val_auc: 0.8127 - val_precision: 0.4258 - val_recall: 0.7651\n",
            "Epoch 16/30\n",
            "75/75 [==============================] - 18s 245ms/step - loss: 0.7820 - accuracy: 0.7002 - auc: 0.8683 - precision: 0.4694 - recall: 0.8610 - val_loss: 1.0200 - val_accuracy: 0.6032 - val_auc: 0.8161 - val_precision: 0.4419 - val_recall: 0.7841\n",
            "Epoch 17/30\n",
            "75/75 [==============================] - 19s 256ms/step - loss: 0.7566 - accuracy: 0.7152 - auc: 0.8708 - precision: 0.4681 - recall: 0.8727 - val_loss: 1.0050 - val_accuracy: 0.6222 - val_auc: 0.8200 - val_precision: 0.4658 - val_recall: 0.8000\n",
            "Epoch 18/30\n",
            "75/75 [==============================] - 18s 243ms/step - loss: 0.7435 - accuracy: 0.7018 - auc: 0.8765 - precision: 0.4571 - recall: 0.8744 - val_loss: 0.9511 - val_accuracy: 0.6444 - val_auc: 0.8379 - val_precision: 0.4662 - val_recall: 0.8317\n",
            "Epoch 19/30\n",
            "75/75 [==============================] - 18s 244ms/step - loss: 0.7143 - accuracy: 0.7270 - auc: 0.8828 - precision: 0.4694 - recall: 0.8995 - val_loss: 0.8887 - val_accuracy: 0.6984 - val_auc: 0.8523 - val_precision: 0.4717 - val_recall: 0.8476\n",
            "Epoch 20/30\n",
            "75/75 [==============================] - 18s 243ms/step - loss: 0.6605 - accuracy: 0.7454 - auc: 0.8961 - precision: 0.4886 - recall: 0.8945 - val_loss: 0.8476 - val_accuracy: 0.7016 - val_auc: 0.8545 - val_precision: 0.4588 - val_recall: 0.8317\n",
            "Epoch 21/30\n",
            "75/75 [==============================] - 18s 244ms/step - loss: 0.6715 - accuracy: 0.7253 - auc: 0.8906 - precision: 0.4712 - recall: 0.8894 - val_loss: 0.7927 - val_accuracy: 0.6825 - val_auc: 0.8686 - val_precision: 0.4889 - val_recall: 0.8413\n",
            "Epoch 22/30\n",
            "75/75 [==============================] - 18s 242ms/step - loss: 0.6290 - accuracy: 0.7688 - auc: 0.9055 - precision: 0.4914 - recall: 0.9112 - val_loss: 0.9219 - val_accuracy: 0.6794 - val_auc: 0.8551 - val_precision: 0.4713 - val_recall: 0.8349\n",
            "Epoch 23/30\n",
            "75/75 [==============================] - 19s 256ms/step - loss: 0.6013 - accuracy: 0.7554 - auc: 0.9069 - precision: 0.4995 - recall: 0.9196 - val_loss: 0.7545 - val_accuracy: 0.7111 - val_auc: 0.8811 - val_precision: 0.4991 - val_recall: 0.8635\n",
            "Epoch 24/30\n",
            "75/75 [==============================] - 18s 243ms/step - loss: 0.5950 - accuracy: 0.7873 - auc: 0.9134 - precision: 0.5018 - recall: 0.9112 - val_loss: 0.8235 - val_accuracy: 0.7079 - val_auc: 0.8669 - val_precision: 0.4796 - val_recall: 0.8571\n",
            "Epoch 25/30\n",
            "75/75 [==============================] - 18s 243ms/step - loss: 0.4986 - accuracy: 0.7940 - auc: 0.9287 - precision: 0.5233 - recall: 0.9397 - val_loss: 0.8522 - val_accuracy: 0.7048 - val_auc: 0.8650 - val_precision: 0.4870 - val_recall: 0.8317\n",
            "Epoch 26/30\n",
            "75/75 [==============================] - 18s 242ms/step - loss: 0.5438 - accuracy: 0.7973 - auc: 0.9200 - precision: 0.5197 - recall: 0.9280 - val_loss: 0.7503 - val_accuracy: 0.7111 - val_auc: 0.8815 - val_precision: 0.4946 - val_recall: 0.8762\n",
            "Epoch 27/30\n",
            "75/75 [==============================] - 18s 244ms/step - loss: 0.5029 - accuracy: 0.8124 - auc: 0.9302 - precision: 0.5226 - recall: 0.9296 - val_loss: 0.8279 - val_accuracy: 0.7048 - val_auc: 0.8674 - val_precision: 0.4818 - val_recall: 0.8381\n",
            "Epoch 28/30\n",
            "75/75 [==============================] - 18s 242ms/step - loss: 0.5024 - accuracy: 0.8224 - auc: 0.9289 - precision: 0.5101 - recall: 0.9296 - val_loss: 0.7895 - val_accuracy: 0.7079 - val_auc: 0.8712 - val_precision: 0.4745 - val_recall: 0.8286\n",
            "Epoch 29/30\n",
            "75/75 [==============================] - 19s 258ms/step - loss: 0.5061 - accuracy: 0.8157 - auc: 0.9251 - precision: 0.5124 - recall: 0.9347 - val_loss: 0.7979 - val_accuracy: 0.7079 - val_auc: 0.8728 - val_precision: 0.4891 - val_recall: 0.8571\n",
            "Epoch 30/30\n",
            "75/75 [==============================] - 18s 244ms/step - loss: 0.4971 - accuracy: 0.8040 - auc: 0.9291 - precision: 0.5182 - recall: 0.9296 - val_loss: 0.6835 - val_accuracy: 0.7492 - val_auc: 0.8899 - val_precision: 0.4863 - val_recall: 0.8984\n"
          ]
        }
      ]
    },
    {
      "cell_type": "markdown",
      "source": [
        "the model has produced the following results:\n",
        "\n",
        "training accuracy= 92.17%\n",
        "\n",
        "training loss= 0.2283\n",
        "\n",
        "training precision= 58%\n",
        "\n",
        "training recall= 98.21%\n",
        "\n",
        "training AUC= 0.9784"
      ],
      "metadata": {
        "id": "8kXeZ4_yqFHd"
      }
    },
    {
      "cell_type": "code",
      "source": [
        "model.evaluate(train_generator)"
      ],
      "metadata": {
        "colab": {
          "base_uri": "https://localhost:8080/"
        },
        "id": "C-ygUFFeIiC9",
        "outputId": "aca3af71-ffc5-4799-f72f-b027351940ac"
      },
      "execution_count": null,
      "outputs": [
        {
          "output_type": "stream",
          "name": "stdout",
          "text": [
            "77/77 [==============================] - 9s 121ms/step - loss: 0.1975 - accuracy: 0.9347 - auc: 0.9766 - precision: 0.5605 - recall: 0.9821\n"
          ]
        },
        {
          "output_type": "execute_result",
          "data": {
            "text/plain": [
              "[0.1975029706954956,\n",
              " 0.9347471594810486,\n",
              " 0.9766270518302917,\n",
              " 0.5605214238166809,\n",
              " 0.9820554852485657]"
            ]
          },
          "metadata": {},
          "execution_count": 25
        }
      ]
    },
    {
      "cell_type": "markdown",
      "source": [
        "the model has produced the following results:\n",
        "\n",
        "validation accuracy= 73.65%\n",
        "\n",
        "validation loss= 0.6912\n",
        "\n",
        "validation precision= 46.58%\n",
        "\n",
        "validation recall= 93.02%\n",
        "\n",
        "validation AUC= 0.9019"
      ],
      "metadata": {
        "id": "bXglNN2Y_e89"
      }
    },
    {
      "cell_type": "code",
      "source": [
        "model.evaluate(validation_generator)"
      ],
      "metadata": {
        "colab": {
          "base_uri": "https://localhost:8080/"
        },
        "id": "8d-sK2fUJDs_",
        "outputId": "bceede31-d737-4782-a694-525bb3b4831a"
      },
      "execution_count": null,
      "outputs": [
        {
          "output_type": "stream",
          "name": "stdout",
          "text": [
            "40/40 [==============================] - 5s 124ms/step - loss: 0.7506 - accuracy: 0.7333 - auc: 0.8805 - precision: 0.4814 - recall: 0.8635\n"
          ]
        },
        {
          "output_type": "execute_result",
          "data": {
            "text/plain": [
              "[0.7505761981010437,\n",
              " 0.7333333492279053,\n",
              " 0.8805072903633118,\n",
              " 0.48141592741012573,\n",
              " 0.8634920716285706]"
            ]
          },
          "metadata": {},
          "execution_count": 26
        }
      ]
    },
    {
      "cell_type": "code",
      "source": [
        "from tensorflow.keras.preprocessing.image import load_img\n",
        "import tensorflow.keras.preprocessing.image as Immm\n"
      ],
      "metadata": {
        "id": "1MDcjHbGa3qD"
      },
      "execution_count": null,
      "outputs": []
    },
    {
      "cell_type": "code",
      "source": [
        "img = Immm.load_img(\"/content/Data/valid/adenocarcinoma_left.lower.lobe_T2_N0_M0_Ib/000108 (7).png\",target_size=(224,224))\n",
        "imag = Immm.img_to_array(img)\n",
        "imaga = np.expand_dims(imag,axis=0) \n",
        "ypred = model.predict(imaga)\n",
        "print(ypred)\n",
        "a=np.argmax(ypred,-1)\n",
        "if a==0:\n",
        "  op=\"Adenocarcinoma\"\n",
        "elif a==1:\n",
        "  op=\"large cell carcinoma\"\n",
        "elif a==2:\n",
        "  op=\"normal (void of cancer)\"\n",
        "else:\n",
        "  op=\"squamous cell carcinoma\"    \n",
        "plt.imshow(img)\n",
        "print(\"THE UPLOADED IMAGE IS SUSPECTED AS: \"+str(op))  \n"
      ],
      "metadata": {
        "colab": {
          "base_uri": "https://localhost:8080/",
          "height": 323
        },
        "id": "h4MxdPKjJFlW",
        "outputId": "a1ab13d9-b467-4582-8035-da124b9a9128"
      },
      "execution_count": null,
      "outputs": [
        {
          "output_type": "stream",
          "name": "stdout",
          "text": [
            "1/1 [==============================] - 3s 3s/step\n",
            "[[0.9150296  0.5325441  0.5995777  0.64586943]]\n",
            "THE UPLOADED IMAGE IS SUSPECTED AS: Adenocarcinoma\n"
          ]
        },
        {
          "output_type": "display_data",
          "data": {
            "text/plain": [
              "<Figure size 432x288 with 1 Axes>"
            ],
            "image/png": "[encoded data removed]"
          },
          "metadata": {
            "needs_background": "light"
          }
        }
      ]
    },
    {
      "cell_type": "code",
      "source": [
        "from keras.preprocessing import image\n",
        "image.load"
      ],
      "metadata": {
        "id": "1RmMo_OlY2e1",
        "outputId": "3749ea0f-2cdd-4943-e31b-6b85fe95899b",
        "colab": {
          "base_uri": "https://localhost:8080/",
          "height": 187
        }
      },
      "execution_count": null,
      "outputs": [
        {
          "output_type": "error",
          "ename": "AttributeError",
          "evalue": "ignored",
          "traceback": [
            "\u001b[0;31m---------------------------------------------------------------------------\u001b[0m",
            "\u001b[0;31mAttributeError\u001b[0m                            Traceback (most recent call last)",
            "\u001b[0;32m<ipython-input-38-72ffbdeb7ca7>\u001b[0m in \u001b[0;36m<module>\u001b[0;34m\u001b[0m\n\u001b[1;32m      1\u001b[0m \u001b[0;32mfrom\u001b[0m \u001b[0mkeras\u001b[0m\u001b[0;34m.\u001b[0m\u001b[0mpreprocessing\u001b[0m \u001b[0;32mimport\u001b[0m \u001b[0mimage\u001b[0m\u001b[0;34m\u001b[0m\u001b[0;34m\u001b[0m\u001b[0m\n\u001b[0;32m----> 2\u001b[0;31m \u001b[0mimage\u001b[0m\u001b[0;34m.\u001b[0m\u001b[0mload\u001b[0m\u001b[0;34m\u001b[0m\u001b[0;34m\u001b[0m\u001b[0m\n\u001b[0m",
            "\u001b[0;31mAttributeError\u001b[0m: module 'keras.preprocessing.image' has no attribute 'load'"
          ]
        }
      ]
    },
    {
      "cell_type": "code",
      "source": [
        "tf.keras.models.save_model(model,'mymodel.hdf5')"
      ],
      "metadata": {
        "id": "QUlvhi8zVf7Z"
      },
      "execution_count": null,
      "outputs": []
    },
    {
      "cell_type": "code",
      "source": [
        "!pip install streamlit"
      ],
      "metadata": {
        "colab": {
          "base_uri": "https://localhost:8080/",
          "height": 1000
        },
        "id": "V22NkuKSJNWB",
        "outputId": "8ac9afd4-c63e-4b9f-cbc9-deabf953fd9e"
      },
      "execution_count": null,
      "outputs": [
        {
          "output_type": "stream",
          "name": "stdout",
          "text": [
            "Collecting streamlit\n",
            "  Downloading streamlit-1.7.0-py2.py3-none-any.whl (9.9 MB)\n",
            "\u001b[K     |████████████████████████████████| 9.9 MB 12.9 MB/s \n",
            "\u001b[?25hRequirement already satisfied: astor in /usr/local/lib/python3.7/dist-packages (from streamlit) (0.8.1)\n",
            "Requirement already satisfied: pandas>=0.21.0 in /usr/local/lib/python3.7/dist-packages (from streamlit) (1.3.5)\n",
            "Requirement already satisfied: tzlocal in /usr/local/lib/python3.7/dist-packages (from streamlit) (1.5.1)\n",
            "Collecting pympler>=0.9\n",
            "  Downloading Pympler-1.0.1-py3-none-any.whl (164 kB)\n",
            "\u001b[K     |████████████████████████████████| 164 kB 50.8 MB/s \n",
            "\u001b[?25hCollecting base58\n",
            "  Downloading base58-2.1.1-py3-none-any.whl (5.6 kB)\n",
            "Requirement already satisfied: pillow>=6.2.0 in /usr/local/lib/python3.7/dist-packages (from streamlit) (7.1.2)\n",
            "Requirement already satisfied: requests in /usr/local/lib/python3.7/dist-packages (from streamlit) (2.23.0)\n",
            "Collecting validators\n",
            "  Downloading validators-0.18.2-py3-none-any.whl (19 kB)\n",
            "Requirement already satisfied: pyarrow in /usr/local/lib/python3.7/dist-packages (from streamlit) (6.0.1)\n",
            "Requirement already satisfied: click>=7.0 in /usr/local/lib/python3.7/dist-packages (from streamlit) (7.1.2)\n",
            "Collecting blinker\n",
            "  Downloading blinker-1.4.tar.gz (111 kB)\n",
            "\u001b[K     |████████████████████████████████| 111 kB 52.5 MB/s \n",
            "\u001b[?25hRequirement already satisfied: attrs in /usr/local/lib/python3.7/dist-packages (from streamlit) (21.4.0)\n",
            "Requirement already satisfied: numpy in /usr/local/lib/python3.7/dist-packages (from streamlit) (1.21.5)\n",
            "Requirement already satisfied: python-dateutil in /usr/local/lib/python3.7/dist-packages (from streamlit) (2.8.2)\n",
            "Collecting toml\n",
            "  Downloading toml-0.10.2-py2.py3-none-any.whl (16 kB)\n",
            "Requirement already satisfied: tornado>=5.0 in /usr/local/lib/python3.7/dist-packages (from streamlit) (5.1.1)\n",
            "Collecting pydeck>=0.1.dev5\n",
            "  Downloading pydeck-0.7.1-py2.py3-none-any.whl (4.3 MB)\n",
            "\u001b[K     |████████████████████████████████| 4.3 MB 33.2 MB/s \n",
            "\u001b[?25hRequirement already satisfied: packaging in /usr/local/lib/python3.7/dist-packages (from streamlit) (21.3)\n",
            "Requirement already satisfied: importlib-metadata>=1.4 in /usr/local/lib/python3.7/dist-packages (from streamlit) (4.11.2)\n",
            "Collecting watchdog\n",
            "  Downloading watchdog-2.1.6-py3-none-manylinux2014_x86_64.whl (76 kB)\n",
            "\u001b[K     |████████████████████████████████| 76 kB 5.0 MB/s \n",
            "\u001b[?25hRequirement already satisfied: cachetools>=4.0 in /usr/local/lib/python3.7/dist-packages (from streamlit) (4.2.4)\n",
            "Collecting gitpython!=3.1.19\n",
            "  Downloading GitPython-3.1.27-py3-none-any.whl (181 kB)\n",
            "\u001b[K     |████████████████████████████████| 181 kB 52.2 MB/s \n",
            "\u001b[?25hRequirement already satisfied: protobuf!=3.11,>=3.6.0 in /usr/local/lib/python3.7/dist-packages (from streamlit) (3.17.3)\n",
            "Requirement already satisfied: typing-extensions in /usr/local/lib/python3.7/dist-packages (from streamlit) (3.10.0.2)\n",
            "Requirement already satisfied: semver in /usr/local/lib/python3.7/dist-packages (from streamlit) (2.13.0)\n",
            "Requirement already satisfied: altair>=3.2.0 in /usr/local/lib/python3.7/dist-packages (from streamlit) (4.2.0)\n",
            "Requirement already satisfied: jsonschema>=3.0 in /usr/local/lib/python3.7/dist-packages (from altair>=3.2.0->streamlit) (4.3.3)\n",
            "Requirement already satisfied: entrypoints in /usr/local/lib/python3.7/dist-packages (from altair>=3.2.0->streamlit) (0.4)\n",
            "Requirement already satisfied: toolz in /usr/local/lib/python3.7/dist-packages (from altair>=3.2.0->streamlit) (0.11.2)\n",
            "Requirement already satisfied: jinja2 in /usr/local/lib/python3.7/dist-packages (from altair>=3.2.0->streamlit) (2.11.3)\n",
            "Collecting gitdb<5,>=4.0.1\n",
            "  Downloading gitdb-4.0.9-py3-none-any.whl (63 kB)\n",
            "\u001b[K     |████████████████████████████████| 63 kB 1.6 MB/s \n",
            "\u001b[?25hCollecting smmap<6,>=3.0.1\n",
            "  Downloading smmap-5.0.0-py3-none-any.whl (24 kB)\n",
            "Requirement already satisfied: zipp>=0.5 in /usr/local/lib/python3.7/dist-packages (from importlib-metadata>=1.4->streamlit) (3.7.0)\n",
            "Requirement already satisfied: importlib-resources>=1.4.0 in /usr/local/lib/python3.7/dist-packages (from jsonschema>=3.0->altair>=3.2.0->streamlit) (5.4.0)\n",
            "Requirement already satisfied: pyrsistent!=0.17.0,!=0.17.1,!=0.17.2,>=0.14.0 in /usr/local/lib/python3.7/dist-packages (from jsonschema>=3.0->altair>=3.2.0->streamlit) (0.18.1)\n",
            "Requirement already satisfied: pytz>=2017.3 in /usr/local/lib/python3.7/dist-packages (from pandas>=0.21.0->streamlit) (2018.9)\n",
            "Requirement already satisfied: six>=1.9 in /usr/local/lib/python3.7/dist-packages (from protobuf!=3.11,>=3.6.0->streamlit) (1.15.0)\n",
            "Requirement already satisfied: ipywidgets>=7.0.0 in /usr/local/lib/python3.7/dist-packages (from pydeck>=0.1.dev5->streamlit) (7.6.5)\n",
            "Collecting ipykernel>=5.1.2\n",
            "  Downloading ipykernel-6.9.1-py3-none-any.whl (128 kB)\n",
            "\u001b[K     |████████████████████████████████| 128 kB 49.1 MB/s \n",
            "\u001b[?25hRequirement already satisfied: traitlets>=4.3.2 in /usr/local/lib/python3.7/dist-packages (from pydeck>=0.1.dev5->streamlit) (5.1.1)\n",
            "Collecting ipython>=7.23.1\n",
            "  Downloading ipython-7.32.0-py3-none-any.whl (793 kB)\n",
            "\u001b[K     |████████████████████████████████| 793 kB 40.0 MB/s \n",
            "\u001b[?25hRequirement already satisfied: jupyter-client<8.0 in /usr/local/lib/python3.7/dist-packages (from ipykernel>=5.1.2->pydeck>=0.1.dev5->streamlit) (5.3.5)\n",
            "Requirement already satisfied: matplotlib-inline<0.2.0,>=0.1.0 in /usr/local/lib/python3.7/dist-packages (from ipykernel>=5.1.2->pydeck>=0.1.dev5->streamlit) (0.1.3)\n",
            "Requirement already satisfied: nest-asyncio in /usr/local/lib/python3.7/dist-packages (from ipykernel>=5.1.2->pydeck>=0.1.dev5->streamlit) (1.5.4)\n",
            "Requirement already satisfied: debugpy<2.0,>=1.0.0 in /usr/local/lib/python3.7/dist-packages (from ipykernel>=5.1.2->pydeck>=0.1.dev5->streamlit) (1.0.0)\n",
            "Requirement already satisfied: pickleshare in /usr/local/lib/python3.7/dist-packages (from ipython>=7.23.1->ipykernel>=5.1.2->pydeck>=0.1.dev5->streamlit) (0.7.5)\n",
            "Collecting prompt-toolkit!=3.0.0,!=3.0.1,<3.1.0,>=2.0.0\n",
            "  Downloading prompt_toolkit-3.0.28-py3-none-any.whl (380 kB)\n",
            "\u001b[K     |████████████████████████████████| 380 kB 46.1 MB/s \n",
            "\u001b[?25hRequirement already satisfied: pygments in /usr/local/lib/python3.7/dist-packages (from ipython>=7.23.1->ipykernel>=5.1.2->pydeck>=0.1.dev5->streamlit) (2.6.1)\n",
            "Requirement already satisfied: backcall in /usr/local/lib/python3.7/dist-packages (from ipython>=7.23.1->ipykernel>=5.1.2->pydeck>=0.1.dev5->streamlit) (0.2.0)\n",
            "Requirement already satisfied: jedi>=0.16 in /usr/local/lib/python3.7/dist-packages (from ipython>=7.23.1->ipykernel>=5.1.2->pydeck>=0.1.dev5->streamlit) (0.18.1)\n",
            "Requirement already satisfied: pexpect>4.3 in /usr/local/lib/python3.7/dist-packages (from ipython>=7.23.1->ipykernel>=5.1.2->pydeck>=0.1.dev5->streamlit) (4.8.0)\n",
            "Requirement already satisfied: decorator in /usr/local/lib/python3.7/dist-packages (from ipython>=7.23.1->ipykernel>=5.1.2->pydeck>=0.1.dev5->streamlit) (4.4.2)\n",
            "Requirement already satisfied: setuptools>=18.5 in /usr/local/lib/python3.7/dist-packages (from ipython>=7.23.1->ipykernel>=5.1.2->pydeck>=0.1.dev5->streamlit) (57.4.0)\n",
            "Requirement already satisfied: widgetsnbextension~=3.5.0 in /usr/local/lib/python3.7/dist-packages (from ipywidgets>=7.0.0->pydeck>=0.1.dev5->streamlit) (3.5.2)\n",
            "Requirement already satisfied: jupyterlab-widgets>=1.0.0 in /usr/local/lib/python3.7/dist-packages (from ipywidgets>=7.0.0->pydeck>=0.1.dev5->streamlit) (1.0.2)\n",
            "Requirement already satisfied: nbformat>=4.2.0 in /usr/local/lib/python3.7/dist-packages (from ipywidgets>=7.0.0->pydeck>=0.1.dev5->streamlit) (5.1.3)\n",
            "Requirement already satisfied: ipython-genutils~=0.2.0 in /usr/local/lib/python3.7/dist-packages (from ipywidgets>=7.0.0->pydeck>=0.1.dev5->streamlit) (0.2.0)\n",
            "Requirement already satisfied: parso<0.9.0,>=0.8.0 in /usr/local/lib/python3.7/dist-packages (from jedi>=0.16->ipython>=7.23.1->ipykernel>=5.1.2->pydeck>=0.1.dev5->streamlit) (0.8.3)\n",
            "Requirement already satisfied: MarkupSafe>=0.23 in /usr/local/lib/python3.7/dist-packages (from jinja2->altair>=3.2.0->streamlit) (2.0.1)\n",
            "Requirement already satisfied: jupyter-core>=4.6.0 in /usr/local/lib/python3.7/dist-packages (from jupyter-client<8.0->ipykernel>=5.1.2->pydeck>=0.1.dev5->streamlit) (4.9.2)\n",
            "Requirement already satisfied: pyzmq>=13 in /usr/local/lib/python3.7/dist-packages (from jupyter-client<8.0->ipykernel>=5.1.2->pydeck>=0.1.dev5->streamlit) (22.3.0)\n",
            "Requirement already satisfied: ptyprocess>=0.5 in /usr/local/lib/python3.7/dist-packages (from pexpect>4.3->ipython>=7.23.1->ipykernel>=5.1.2->pydeck>=0.1.dev5->streamlit) (0.7.0)\n",
            "Requirement already satisfied: wcwidth in /usr/local/lib/python3.7/dist-packages (from prompt-toolkit!=3.0.0,!=3.0.1,<3.1.0,>=2.0.0->ipython>=7.23.1->ipykernel>=5.1.2->pydeck>=0.1.dev5->streamlit) (0.2.5)\n",
            "Requirement already satisfied: notebook>=4.4.1 in /usr/local/lib/python3.7/dist-packages (from widgetsnbextension~=3.5.0->ipywidgets>=7.0.0->pydeck>=0.1.dev5->streamlit) (5.3.1)\n",
            "Requirement already satisfied: nbconvert in /usr/local/lib/python3.7/dist-packages (from notebook>=4.4.1->widgetsnbextension~=3.5.0->ipywidgets>=7.0.0->pydeck>=0.1.dev5->streamlit) (5.6.1)\n",
            "Requirement already satisfied: Send2Trash in /usr/local/lib/python3.7/dist-packages (from notebook>=4.4.1->widgetsnbextension~=3.5.0->ipywidgets>=7.0.0->pydeck>=0.1.dev5->streamlit) (1.8.0)\n",
            "Requirement already satisfied: terminado>=0.8.1 in /usr/local/lib/python3.7/dist-packages (from notebook>=4.4.1->widgetsnbextension~=3.5.0->ipywidgets>=7.0.0->pydeck>=0.1.dev5->streamlit) (0.13.3)\n",
            "Requirement already satisfied: bleach in /usr/local/lib/python3.7/dist-packages (from nbconvert->notebook>=4.4.1->widgetsnbextension~=3.5.0->ipywidgets>=7.0.0->pydeck>=0.1.dev5->streamlit) (4.1.0)\n",
            "Requirement already satisfied: defusedxml in /usr/local/lib/python3.7/dist-packages (from nbconvert->notebook>=4.4.1->widgetsnbextension~=3.5.0->ipywidgets>=7.0.0->pydeck>=0.1.dev5->streamlit) (0.7.1)\n",
            "Requirement already satisfied: pandocfilters>=1.4.1 in /usr/local/lib/python3.7/dist-packages (from nbconvert->notebook>=4.4.1->widgetsnbextension~=3.5.0->ipywidgets>=7.0.0->pydeck>=0.1.dev5->streamlit) (1.5.0)\n",
            "Requirement already satisfied: testpath in /usr/local/lib/python3.7/dist-packages (from nbconvert->notebook>=4.4.1->widgetsnbextension~=3.5.0->ipywidgets>=7.0.0->pydeck>=0.1.dev5->streamlit) (0.6.0)\n",
            "Requirement already satisfied: mistune<2,>=0.8.1 in /usr/local/lib/python3.7/dist-packages (from nbconvert->notebook>=4.4.1->widgetsnbextension~=3.5.0->ipywidgets>=7.0.0->pydeck>=0.1.dev5->streamlit) (0.8.4)\n",
            "Requirement already satisfied: webencodings in /usr/local/lib/python3.7/dist-packages (from bleach->nbconvert->notebook>=4.4.1->widgetsnbextension~=3.5.0->ipywidgets>=7.0.0->pydeck>=0.1.dev5->streamlit) (0.5.1)\n",
            "Requirement already satisfied: pyparsing!=3.0.5,>=2.0.2 in /usr/local/lib/python3.7/dist-packages (from packaging->streamlit) (3.0.7)\n",
            "Requirement already satisfied: chardet<4,>=3.0.2 in /usr/local/lib/python3.7/dist-packages (from requests->streamlit) (3.0.4)\n",
            "Requirement already satisfied: urllib3!=1.25.0,!=1.25.1,<1.26,>=1.21.1 in /usr/local/lib/python3.7/dist-packages (from requests->streamlit) (1.24.3)\n",
            "Requirement already satisfied: idna<3,>=2.5 in /usr/local/lib/python3.7/dist-packages (from requests->streamlit) (2.10)\n",
            "Requirement already satisfied: certifi>=2017.4.17 in /usr/local/lib/python3.7/dist-packages (from requests->streamlit) (2021.10.8)\n",
            "Building wheels for collected packages: blinker\n",
            "  Building wheel for blinker (setup.py) ... \u001b[?25l\u001b[?25hdone\n",
            "  Created wheel for blinker: filename=blinker-1.4-py3-none-any.whl size=13478 sha256=57c932f1b3d372a8fe5d03a773e399cf42997d600caca5c812ece7afa51fc0b8\n",
            "  Stored in directory: /root/.cache/pip/wheels/22/f5/18/df711b66eb25b21325c132757d4314db9ac5e8dabeaf196eab\n",
            "Successfully built blinker\n",
            "Installing collected packages: prompt-toolkit, ipython, ipykernel, smmap, gitdb, watchdog, validators, toml, pympler, pydeck, gitpython, blinker, base58, streamlit\n",
            "  Attempting uninstall: prompt-toolkit\n",
            "    Found existing installation: prompt-toolkit 1.0.18\n",
            "    Uninstalling prompt-toolkit-1.0.18:\n",
            "      Successfully uninstalled prompt-toolkit-1.0.18\n",
            "  Attempting uninstall: ipython\n",
            "    Found existing installation: ipython 5.5.0\n",
            "    Uninstalling ipython-5.5.0:\n",
            "      Successfully uninstalled ipython-5.5.0\n",
            "  Attempting uninstall: ipykernel\n",
            "    Found existing installation: ipykernel 4.10.1\n",
            "    Uninstalling ipykernel-4.10.1:\n",
            "      Successfully uninstalled ipykernel-4.10.1\n",
            "\u001b[31mERROR: pip's dependency resolver does not currently take into account all the packages that are installed. This behaviour is the source of the following dependency conflicts.\n",
            "jupyter-console 5.2.0 requires prompt-toolkit<2.0.0,>=1.0.0, but you have prompt-toolkit 3.0.28 which is incompatible.\n",
            "google-colab 1.0.0 requires ipykernel~=4.10, but you have ipykernel 6.9.1 which is incompatible.\n",
            "google-colab 1.0.0 requires ipython~=5.5.0, but you have ipython 7.32.0 which is incompatible.\u001b[0m\n",
            "Successfully installed base58-2.1.1 blinker-1.4 gitdb-4.0.9 gitpython-3.1.27 ipykernel-6.9.1 ipython-7.32.0 prompt-toolkit-3.0.28 pydeck-0.7.1 pympler-1.0.1 smmap-5.0.0 streamlit-1.7.0 toml-0.10.2 validators-0.18.2 watchdog-2.1.6\n"
          ]
        },
        {
          "output_type": "display_data",
          "data": {
            "application/vnd.colab-display-data+json": {
              "pip_warning": {
                "packages": [
                  "IPython",
                  "ipykernel",
                  "prompt_toolkit"
                ]
              }
            }
          },
          "metadata": {}
        }
      ]
    },
    {
      "cell_type": "markdown",
      "source": [
        "I have developed a website using streamlit that accepts the lung CT image from the user in the format of PNG, JPG or JPEG. Once uploaded, the model will classify the input image into one of the four cancerous conditions (adenocarcinoma, large cell carcinoma, squamous cell carcinoma."
      ],
      "metadata": {
        "id": "8b8SfXi4QzOC"
      }
    },
    {
      "cell_type": "code",
      "source": [
        "%%writefile app.py\n",
        "import streamlit as st\n",
        "import tensorflow as tf\n",
        "import streamlit as st\n",
        "from tensorflow.keras.preprocessing import image\n",
        "from PIL import Image, ImageOps\n",
        "import pandas as pd\n",
        "import cv2\n",
        "import numpy as np\n",
        "\n",
        "\n",
        "html_temp = \"\"\" \n",
        "  <div style=\"background-color:pink ;padding:10px\">\n",
        "  <h2 style=\"color:white;text-align:center;\"> LUNG CT IMAGE CLASSIFICATION ⚕️⚕️⚕️</h2>\n",
        "  </div>\n",
        "  \"\"\" \n",
        "st.markdown(html_temp, unsafe_allow_html=True) \n",
        "html_temp = \"\"\" \n",
        "  <div style=\"background-color:teal ;padding:10px\">\n",
        "  <h2 style=\"color:white;text-align:center;\"> Done by Sairam Adithya</h2>\n",
        "  </div>\n",
        "  \"\"\" \n",
        "st.markdown(html_temp, unsafe_allow_html=True) \n",
        "st.header('Types of cancer covered in the dataset are:')\n",
        "st.subheader('1. Adenocarcinoma')\n",
        "st.write('Cancer is a medical condition which is due to abnormal, uncontrollable, uncoordinated division of cells.')\n",
        "st.write('Adenocarcinoma of the lung: Lung adenocarcinoma is the most common form of lung cancer accounting for 30 percent of all cases overall and about 40 percent of all non-small cell lung cancer occurrences. Adenocarcinomas are found in several common cancers, including breast, prostate and colorectal. Adenocarcinomas of the lung are found in the outer region of the lung in glands that secrete mucus and help us breathe. Symptoms include coughing, hoarseness, weight loss and weakness.')\n",
        "st.subheader('2. Large cell carcinoma')\n",
        "st.write('Large-cell undifferentiated carcinoma: Large-cell undifferentiated carcinoma lung cancer grows and spreads quickly and can be found anywhere in the lung. This type of lung cancer usually accounts for 10 to 15 percent of all cases of NSCLC. Large-cell undifferentiated carcinoma tends to grow and spread quickly.')\n",
        "st.subheader('3. Squamous cell carcinoma')\n",
        "st.write('Squamous cell: This type of lung cancer is found centrally in the lung, where the larger bronchi join the trachea to the lung, or in one of the main airway branches. Squamous cell lung cancer is responsible for about 30 percent of all non-small cell lung cancers, and is generally linked to smoking.')\n",
        "st.subheader('4. Normal')\n",
        "st.write('This is normal lung CT image.')\n",
        "@st.cache(allow_output_mutation=True)\n",
        "def load_model():\n",
        "   model=tf.keras.models.load_model('/content/mymodel.hdf5')\n",
        "   return model\n",
        "with st.spinner('Model is being loaded..'):\n",
        "    model=load_model()\n",
        "file = st.file_uploader(\"Please upload any image from the local machine in case of computer or upload camera image in case of mobile.\", type=[\"jpg\", \"png\",\"jpeg\"])\n",
        "st.set_option('deprecation.showfileUploaderEncoding', False)\n",
        "def import_and_predict(image_data, model):   \n",
        "        size = (224,224)    \n",
        "        image = ImageOps.fit(image_data, size, Image.ANTIALIAS)\n",
        "        image = np.asarray(image)\n",
        "        img = cv2.cvtColor(image, cv2.COLOR_BGR2RGB)\n",
        "        #img_resize = (cv2.resize(img, dsize=(75, 75),    interpolation=cv2.INTER_CUBIC))/255.\n",
        "        \n",
        "        img_reshape = img[np.newaxis,...]\n",
        "    \n",
        "        prediction = model.predict(img_reshape)\n",
        "        return prediction\n",
        "if file is None:\n",
        "     st.text(\"Please upload an image file within the allotted file size\")\n",
        "else:\n",
        "     img = Image.open(file)\n",
        "     st.image(img, use_column_width=False)\n",
        "     size = (224,224)    \n",
        "     image = ImageOps.fit(img, size, Image.ANTIALIAS)\n",
        "     imag = np.asarray(image)\n",
        "     imaga = np.expand_dims(imag,axis=0) \n",
        "     predictions = model.predict(imaga)\n",
        "     #predictions = import_and_predict(image, model)\n",
        "     a=np.argmax(predictions,-1)\n",
        "     if a==0:\n",
        "       st.error('The subject under observation is suspected to have adenocarcinoma. Please ensure that you consult with a professional before pursuing any kinds of treatment.')\n",
        "       st.warning('the model is only 75% accurate. this is the beta version of the model. Futher enhancements has to made to get the best results.')\n",
        "     elif a==1:\n",
        "       st.error('The subject under observation is suspected to have large cell carcinoma. Please ensure that you consult with a professional or confirm with the other modalities present in the tool.') \n",
        "       st.warning('the model is only 75% accurate. this is the beta version of the model. Futher enhancements has to made to get the best results.')\n",
        "     elif a==2:\n",
        "       st.success('The subject under consideration is void of any lung/breast cancer.')\n",
        "       st.warning('the model is only 75% accurate. this is the beta version of the model. Futher enhancements has to made to get the best results.')      \n",
        "     else:\n",
        "       st.error('The subject under observation is suspected to have squamous cell carcinoma. Please ensure that you consult with a professional or confirm with the other modalities present in the tool.')\n",
        "       st.warning('the model is only 75% accurate. this is the beta version of the model. Futher enhancements has to made to get the best results.')        "
      ],
      "metadata": {
        "colab": {
          "base_uri": "https://localhost:8080/"
        },
        "id": "krs3xFkNJPiA",
        "outputId": "417eae40-1ef4-4420-fcf8-46d4fa0e753a"
      },
      "execution_count": null,
      "outputs": [
        {
          "output_type": "stream",
          "name": "stdout",
          "text": [
            "Writing app.py\n"
          ]
        }
      ]
    },
    {
      "cell_type": "code",
      "source": [
        "!streamlit run app.py & npx localtunnel --port 8501"
      ],
      "metadata": {
        "colab": {
          "base_uri": "https://localhost:8080/"
        },
        "id": "4KEIChI4JSwm",
        "outputId": "8f7e2dd5-5266-4584-9322-4f68dfb6037e"
      },
      "execution_count": null,
      "outputs": [
        {
          "metadata": {
            "tags": null
          },
          "name": "stdout",
          "output_type": "stream",
          "text": [
            "/bin/bash: streamlit: command not found\n",
            "\u001b[K\u001b[?25hnpx: installed 22 in 2.636s\n",
            "your url is: https://legal-sloths-joke-34-87-22-197.loca.lt\n"
          ]
        }
      ]
    }
  ]
}