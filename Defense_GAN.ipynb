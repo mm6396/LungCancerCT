{
  "nbformat": 4,
  "nbformat_minor": 0,
  "metadata": {
    "colab": {
      "provenance": [],
      "gpuType": "T4",
      "authorship_tag": "ABX9TyPutgpU0cLRFUe1oJ73UX4G",
      "include_colab_link": true
    },
    "kernelspec": {
      "name": "python3",
      "display_name": "Python 3"
    },
    "language_info": {
      "name": "python"
    },
    "accelerator": "GPU"
  },
  "cells": [
    {
      "cell_type": "markdown",
      "metadata": {
        "id": "view-in-github",
        "colab_type": "text"
      },
      "source": [
        "<a href=\"https://colab.research.google.com/github/mm6396/LungCancerCT/blob/main/Defense_GAN.ipynb\" target=\"_parent\"><img src=\"https://colab.research.google.com/assets/colab-badge.svg\" alt=\"Open In Colab\"/></a>"
      ]
    },
    {
      "cell_type": "code",
      "source": [
        "!git clone --recursive https://github.com/kabkabm/defensegan\n"
      ],
      "metadata": {
        "colab": {
          "base_uri": "https://localhost:8080/"
        },
        "id": "MWP_7rxXnoxR",
        "outputId": "dbcacf4c-5f0f-406c-9cbf-37648eafd96a"
      },
      "execution_count": 1,
      "outputs": [
        {
          "output_type": "stream",
          "name": "stdout",
          "text": [
            "Cloning into 'defensegan'...\n",
            "remote: Enumerating objects: 393, done.\u001b[K\n",
            "remote: Total 393 (delta 0), reused 0 (delta 0), pack-reused 393\u001b[K\n",
            "Receiving objects: 100% (393/393), 2.77 MiB | 8.91 MiB/s, done.\n",
            "Resolving deltas: 100% (118/118), done.\n",
            "Submodule 'cleverhans' (https://github.com/tensorflow/cleverhans) registered for path 'cleverhans'\n",
            "Cloning into '/content/defensegan/cleverhans'...\n",
            "remote: Enumerating objects: 14974, done.        \n",
            "remote: Counting objects: 100% (167/167), done.        \n",
            "remote: Compressing objects: 100% (103/103), done.        \n",
            "remote: Total 14974 (delta 71), reused 130 (delta 53), pack-reused 14807        \n",
            "Receiving objects: 100% (14974/14974), 9.16 MiB | 22.61 MiB/s, done.\n",
            "Resolving deltas: 100% (10411/10411), done.\n",
            "Submodule path 'cleverhans': checked out '6b065c4507f50e2545c009f75e82678f92353163'\n"
          ]
        }
      ]
    },
    {
      "cell_type": "code",
      "source": [
        "cd defensegan"
      ],
      "metadata": {
        "colab": {
          "base_uri": "https://localhost:8080/"
        },
        "id": "Bg2ELOPunuOS",
        "outputId": "650b781e-2e78-4c5f-aa3a-7d163a17595b"
      },
      "execution_count": 2,
      "outputs": [
        {
          "output_type": "stream",
          "name": "stdout",
          "text": [
            "/content/defensegan\n"
          ]
        }
      ]
    },
    {
      "cell_type": "code",
      "source": [
        "!git submodule update --init --recursive"
      ],
      "metadata": {
        "id": "R1yZY6UOnw7G"
      },
      "execution_count": 3,
      "outputs": []
    },
    {
      "cell_type": "code",
      "source": [
        "!pip install -r requirements.txt"
      ],
      "metadata": {
        "colab": {
          "base_uri": "https://localhost:8080/"
        },
        "id": "Pjpgey8Pn-bZ",
        "outputId": "5cea3992-2df4-4182-a28c-2a651e92f564"
      },
      "execution_count": 4,
      "outputs": [
        {
          "output_type": "stream",
          "name": "stdout",
          "text": [
            "\u001b[31mERROR: Invalid requirement: 'tqdm=4.28.1' (from line 8 of requirements.txt)\n",
            "Hint: = is not a valid operator. Did you mean == ?\u001b[0m\u001b[31m\n",
            "\u001b[0m"
          ]
        }
      ]
    },
    {
      "cell_type": "code",
      "source": [
        "!python download_dataset.py mnist\n",
        "!python download_dataset.py f-mnist\n",
        "!python download_dataset.py celebA"
      ],
      "metadata": {
        "colab": {
          "base_uri": "https://localhost:8080/"
        },
        "id": "k-g2KsCQoPqw",
        "outputId": "d0d49df6-98b5-4190-cb0c-415df6b084a2"
      },
      "execution_count": 5,
      "outputs": [
        {
          "output_type": "stream",
          "name": "stdout",
          "text": [
            "http://yann.lecun.com/exdb/mnist/train-images-idx3-ubyte.gz\n",
            "Downloading  train-images-idx3-ubyte.gz\n",
            "  % Total    % Received % Xferd  Average Speed   Time    Time     Time  Current\n",
            "                                 Dload  Upload   Total   Spent    Left  Speed\n",
            "\r  0     0    0     0    0     0      0      0 --:--:-- --:--:-- --:--:--     0\r100 9680k  100 9680k    0     0  78.7M      0 --:--:-- --:--:-- --:--:-- 78.7M\n",
            "Decompressing  train-images-idx3-ubyte.gz\n",
            "http://yann.lecun.com/exdb/mnist/train-labels-idx1-ubyte.gz\n",
            "Downloading  train-labels-idx1-ubyte.gz\n",
            "  % Total    % Received % Xferd  Average Speed   Time    Time     Time  Current\n",
            "                                 Dload  Upload   Total   Spent    Left  Speed\n",
            "100 28881  100 28881    0     0  1175k      0 --:--:-- --:--:-- --:--:-- 1175k\n",
            "Decompressing  train-labels-idx1-ubyte.gz\n",
            "http://yann.lecun.com/exdb/mnist/t10k-images-idx3-ubyte.gz\n",
            "Downloading  t10k-images-idx3-ubyte.gz\n",
            "  % Total    % Received % Xferd  Average Speed   Time    Time     Time  Current\n",
            "                                 Dload  Upload   Total   Spent    Left  Speed\n",
            "100 1610k  100 1610k    0     0  30.8M      0 --:--:-- --:--:-- --:--:-- 30.8M\n",
            "Decompressing  t10k-images-idx3-ubyte.gz\n",
            "http://yann.lecun.com/exdb/mnist/t10k-labels-idx1-ubyte.gz\n",
            "Downloading  t10k-labels-idx1-ubyte.gz\n",
            "  % Total    % Received % Xferd  Average Speed   Time    Time     Time  Current\n",
            "                                 Dload  Upload   Total   Spent    Left  Speed\n",
            "100  4542  100  4542    0     0   158k      0 --:--:-- --:--:-- --:--:--  158k\n",
            "Decompressing  t10k-labels-idx1-ubyte.gz\n",
            "/usr/local/lib/python3.10/dist-packages/urllib3/connectionpool.py:1045: InsecureRequestWarning: Unverified HTTPS request is being made to host 'docs.google.com'. Adding certificate verification is strongly advised. See: https://urllib3.readthedocs.io/en/1.26.x/advanced-usage.html#ssl-warnings\n",
            "  warnings.warn(\n",
            "./data/img_align_celeba.zip: 1.00B [00:00, 4.20kB/s]\n",
            "Traceback (most recent call last):\n",
            "  File \"/content/defensegan/download_dataset.py\", line 196, in <module>\n",
            "    download_celeb_a('./data')\n",
            "  File \"/content/defensegan/download_dataset.py\", line 100, in download_celeb_a\n",
            "    with zipfile.ZipFile(save_path) as zf:\n",
            "  File \"/usr/lib/python3.10/zipfile.py\", line 1269, in __init__\n",
            "    self._RealGetContents()\n",
            "  File \"/usr/lib/python3.10/zipfile.py\", line 1336, in _RealGetContents\n",
            "    raise BadZipFile(\"File is not a zip file\")\n",
            "zipfile.BadZipFile: File is not a zip file\n"
          ]
        }
      ]
    },
    {
      "cell_type": "code",
      "source": [
        "!mkdir output\n",
        "!mkdir debug"
      ],
      "metadata": {
        "id": "XcLnVBN0pJ0h"
      },
      "execution_count": 6,
      "outputs": []
    },
    {
      "cell_type": "code",
      "source": [
        "!curl https://bootstrap.pypa.io/pip/2.7/get-pip.py --output get-pip.py\n",
        "!sudo python2.7 get-pip.py"
      ],
      "metadata": {
        "colab": {
          "base_uri": "https://localhost:8080/"
        },
        "id": "k7chlEm3tp1_",
        "outputId": "7267e990-d006-4e6c-8491-8a081ac59e59"
      },
      "execution_count": 7,
      "outputs": [
        {
          "output_type": "stream",
          "name": "stdout",
          "text": [
            "  % Total    % Received % Xferd  Average Speed   Time    Time     Time  Current\n",
            "                                 Dload  Upload   Total   Spent    Left  Speed\n",
            "\r  0     0    0     0    0     0      0      0 --:--:-- --:--:-- --:--:--     0\r100 1863k  100 1863k    0     0   9.9M      0 --:--:-- --:--:-- --:--:--  9.9M\n",
            "\u001b[33mDEPRECATION: Python 2.7 reached the end of its life on January 1st, 2020. Please upgrade your Python as Python 2.7 is no longer maintained. pip 21.0 will drop support for Python 2.7 in January 2021. More details about Python 2 support in pip can be found at https://pip.pypa.io/en/latest/development/release-process/#python-2-support pip 21.0 will remove support for this functionality.\u001b[0m\n",
            "Looking in indexes: https://pypi.org/simple, https://us-python.pkg.dev/colab-wheels/public/simple/\n",
            "Collecting pip<21.0\n",
            "  Downloading pip-20.3.4-py2.py3-none-any.whl (1.5 MB)\n",
            "\u001b[K     |████████████████████████████████| 1.5 MB 14.9 MB/s \n",
            "\u001b[?25hCollecting setuptools<45\n",
            "  Downloading setuptools-44.1.1-py2.py3-none-any.whl (583 kB)\n",
            "\u001b[K     |████████████████████████████████| 583 kB 85.2 MB/s \n",
            "\u001b[?25hCollecting wheel\n",
            "  Downloading wheel-0.37.1-py2.py3-none-any.whl (35 kB)\n",
            "Installing collected packages: pip, setuptools, wheel\n",
            "Successfully installed pip-20.3.4 setuptools-44.1.1 wheel-0.37.1\n"
          ]
        }
      ]
    },
    {
      "cell_type": "code",
      "source": [
        "!pip install tensorflow==1.14"
      ],
      "metadata": {
        "id": "y2O59Di2xwgB",
        "colab": {
          "base_uri": "https://localhost:8080/"
        },
        "outputId": "902dec68-48ba-4d5e-c481-5fb0584404e7"
      },
      "execution_count": 21,
      "outputs": [
        {
          "output_type": "stream",
          "name": "stdout",
          "text": [
            "Looking in indexes: https://pypi.org/simple, https://us-python.pkg.dev/colab-wheels/public/simple/\n",
            "Collecting tensorflow==1.14\n",
            "  Using cached tensorflow-1.14.0-cp27-cp27mu-manylinux1_x86_64.whl (109.2 MB)\n",
            "Requirement already satisfied: backports.weakref>=1.0rc1 in /usr/local/lib/python2.7/dist-packages (from tensorflow==1.14) (1.0.post1)\n",
            "Requirement already satisfied: keras-preprocessing>=1.0.5 in /usr/local/lib/python2.7/dist-packages (from tensorflow==1.14) (1.1.2)\n",
            "Requirement already satisfied: six>=1.10.0 in /usr/local/lib/python2.7/dist-packages (from tensorflow==1.14) (1.16.0)\n",
            "Requirement already satisfied: gast>=0.2.0 in /usr/local/lib/python2.7/dist-packages (from tensorflow==1.14) (0.5.4)\n",
            "Collecting grpcio>=1.8.6\n",
            "  Using cached grpcio-1.41.1.tar.gz (21.2 MB)\n",
            "Collecting astor>=0.6.0\n",
            "  Using cached astor-0.8.1-py2.py3-none-any.whl (27 kB)\n",
            "Collecting protobuf>=3.6.1\n",
            "  Using cached protobuf-3.17.3-cp27-cp27mu-manylinux_2_5_x86_64.manylinux1_x86_64.whl (1.0 MB)\n",
            "Requirement already satisfied: wheel in /usr/local/lib/python2.7/dist-packages (from tensorflow==1.14) (0.37.1)\n",
            "Requirement already satisfied: numpy<2.0,>=1.14.5 in /usr/local/lib/python2.7/dist-packages (from tensorflow==1.14) (1.16.6)\n",
            "Requirement already satisfied: enum34>=1.1.6 in /usr/local/lib/python2.7/dist-packages (from tensorflow==1.14) (1.1.10)\n",
            "Collecting tensorflow-estimator<1.15.0rc0,>=1.14.0rc0\n",
            "  Using cached tensorflow_estimator-1.14.0-py2.py3-none-any.whl (488 kB)\n",
            "Collecting google-pasta>=0.1.6\n",
            "  Using cached google_pasta-0.2.0-py2-none-any.whl (57 kB)\n",
            "Processing /root/.cache/pip/wheels/fd/44/71/68b195f38ba3088221a3ec364865a7e1374e65b4346396b329/absl_py-0.15.0-py2-none-any.whl\n",
            "Collecting tensorboard<1.15.0,>=1.14.0\n",
            "  Using cached tensorboard-1.14.0-py2-none-any.whl (3.1 MB)\n",
            "Processing /root/.cache/pip/wheels/71/a0/64/e2e0c93740e0460f4b7f036141b7c73b5e44ff38f690ddff9f/Keras_Applications-1.0.8-py2-none-any.whl\n",
            "Processing /root/.cache/pip/wheels/48/54/87/2f4d1a48c87e43906477a3c93d9663c49ca092046d5a4b00b4/termcolor-1.1.0-py2-none-any.whl\n",
            "Collecting wrapt>=1.11.1\n",
            "  Using cached wrapt-1.15.0-cp27-cp27mu-manylinux2010_x86_64.whl (75 kB)\n",
            "Collecting mock>=2.0.0\n",
            "  Using cached mock-3.0.5-py2.py3-none-any.whl (25 kB)\n",
            "Requirement already satisfied: futures>=2.2.0 in /usr/local/lib/python2.7/dist-packages (from grpcio>=1.8.6->tensorflow==1.14) (3.4.0)\n",
            "Collecting markdown>=2.6.8\n",
            "  Using cached Markdown-3.1.1-py2.py3-none-any.whl (87 kB)\n",
            "Requirement already satisfied: setuptools>=41.0.0 in /usr/local/lib/python2.7/dist-packages (from tensorboard<1.15.0,>=1.14.0->tensorflow==1.14) (44.1.1)\n",
            "Collecting werkzeug>=0.11.15\n",
            "  Using cached Werkzeug-1.0.1-py2.py3-none-any.whl (298 kB)\n",
            "Collecting h5py\n",
            "  Using cached h5py-2.10.0-cp27-cp27mu-manylinux1_x86_64.whl (2.8 MB)\n",
            "Collecting funcsigs>=1; python_version < \"3.3\"\n",
            "  Using cached funcsigs-1.0.2-py2.py3-none-any.whl (17 kB)\n",
            "Building wheels for collected packages: grpcio\n",
            "  Building wheel for grpcio (setup.py) ... \u001b[?25lerror\n",
            "\u001b[31m  ERROR: Failed building wheel for grpcio\u001b[0m\n",
            "\u001b[?25h  Running setup.py clean for grpcio\n",
            "Failed to build grpcio\n",
            "Installing collected packages: grpcio, astor, protobuf, tensorflow-estimator, google-pasta, absl-py, markdown, werkzeug, tensorboard, h5py, keras-applications, termcolor, wrapt, funcsigs, mock, tensorflow\n",
            "    Running setup.py install for grpcio ... \u001b[?25l\u001b[?25herror\n",
            "\u001b[31mERROR: Command errored out with exit status 1: /usr/bin/python2.7 -u -c 'import sys, setuptools, tokenize; sys.argv[0] = '\"'\"'/tmp/pip-install-gAq4eI/grpcio/setup.py'\"'\"'; __file__='\"'\"'/tmp/pip-install-gAq4eI/grpcio/setup.py'\"'\"';f=getattr(tokenize, '\"'\"'open'\"'\"', open)(__file__);code=f.read().replace('\"'\"'\\r\\n'\"'\"', '\"'\"'\\n'\"'\"');f.close();exec(compile(code, __file__, '\"'\"'exec'\"'\"'))' install --record /tmp/pip-record-jrfokJ/install-record.txt --single-version-externally-managed --compile --install-headers /usr/local/include/python2.7/grpcio Check the logs for full command output.\u001b[0m\n"
          ]
        }
      ]
    },
    {
      "cell_type": "code",
      "source": [
        "!python train.py --cfg experiments/cfgs/gans/mnist.yml --dataset_name mnist --is_train"
      ],
      "metadata": {
        "colab": {
          "base_uri": "https://localhost:8080/"
        },
        "id": "7I34DynPtO_i",
        "outputId": "446687fc-e110-41f6-9b84-d51d09f8b254"
      },
      "execution_count": 37,
      "outputs": [
        {
          "output_type": "stream",
          "name": "stdout",
          "text": [
            "2023-06-01 20:30:33.228489: W tensorflow/compiler/tf2tensorrt/utils/py_utils.cc:38] TF-TRT Warning: Could not find TensorRT\n",
            "Traceback (most recent call last):\n",
            "  File \"/content/defensegan/train.py\", line 56, in <module>\n",
            "    cfg = load_config(args.cfg)\n",
            "NameError: name 'load_config' is not defined\n"
          ]
        }
      ]
    },
    {
      "cell_type": "code",
      "source": [
        "!python --version\n",
        "\n"
      ],
      "metadata": {
        "colab": {
          "base_uri": "https://localhost:8080/"
        },
        "id": "dAm-yaJM72iS",
        "outputId": "b614ccce-04c1-47df-e89b-99c538679271"
      },
      "execution_count": 10,
      "outputs": [
        {
          "output_type": "stream",
          "name": "stdout",
          "text": [
            "Python 3.10.11\n"
          ]
        }
      ]
    },
    {
      "cell_type": "code",
      "source": [
        "!curl https://pyenv.run | bash"
      ],
      "metadata": {
        "colab": {
          "base_uri": "https://localhost:8080/"
        },
        "id": "VcWXIpPT8s7n",
        "outputId": "116fd843-8391-47fb-b5a6-73fb7fc19fe6"
      },
      "execution_count": null,
      "outputs": [
        {
          "output_type": "stream",
          "name": "stdout",
          "text": [
            "  % Total    % Received % Xferd  Average Speed   Time    Time     Time  Current\n",
            "                                 Dload  Upload   Total   Spent    Left  Speed\n",
            "\r  0     0    0     0    0     0      0      0 --:--:-- --:--:-- --:--:--     0\r100   270  100   270    0     0   1588      0 --:--:-- --:--:-- --:--:--  1588\n",
            "Cloning into '/root/.pyenv'...\n",
            "remote: Enumerating objects: 1116, done.\u001b[K\n",
            "remote: Counting objects: 100% (1116/1116), done.\u001b[K\n",
            "remote: Compressing objects: 100% (676/676), done.\u001b[K\n",
            "remote: Total 1116 (delta 633), reused 598 (delta 310), pack-reused 0\u001b[K\n",
            "Receiving objects: 100% (1116/1116), 562.78 KiB | 8.40 MiB/s, done.\n",
            "Resolving deltas: 100% (633/633), done.\n",
            "Cloning into '/root/.pyenv/plugins/pyenv-doctor'...\n",
            "remote: Enumerating objects: 11, done.\u001b[K\n",
            "remote: Counting objects: 100% (11/11), done.\u001b[K\n",
            "remote: Compressing objects: 100% (9/9), done.\u001b[K\n",
            "remote: Total 11 (delta 1), reused 5 (delta 0), pack-reused 0\u001b[K\n",
            "Unpacking objects: 100% (11/11), 38.70 KiB | 2.58 MiB/s, done.\n",
            "Cloning into '/root/.pyenv/plugins/pyenv-update'...\n",
            "remote: Enumerating objects: 10, done.\u001b[K\n",
            "remote: Counting objects: 100% (10/10), done.\u001b[K\n",
            "remote: Compressing objects: 100% (6/6), done.\u001b[K\n",
            "Unpacking objects: 100% (10/10), 2.90 KiB | 1.45 MiB/s, done.\n",
            "remote: Total 10 (delta 1), reused 5 (delta 0), pack-reused 0\u001b[K\n",
            "Cloning into '/root/.pyenv/plugins/pyenv-virtualenv'...\n",
            "remote: Enumerating objects: 63, done.\u001b[K\n",
            "remote: Counting objects: 100% (63/63), done.\u001b[K\n",
            "remote: Compressing objects: 100% (56/56), done.\u001b[K\n",
            "remote: Total 63 (delta 11), reused 27 (delta 0), pack-reused 0\u001b[K\n",
            "Unpacking objects: 100% (63/63), 39.92 KiB | 2.49 MiB/s, done.\n",
            "\n",
            "\u001b[1mWARNING\u001b[m: seems you still have not added 'pyenv' to the load path.\n",
            "\n",
            "# Load pyenv automatically by appending\n",
            "# the following to \n",
            "~/.bash_profile if it exists, otherwise ~/.profile (for login shells)\n",
            "and ~/.bashrc (for interactive shells) :\n",
            "\n",
            "export PYENV_ROOT=\"$HOME/.pyenv\"\n",
            "command -v pyenv >/dev/null || export PATH=\"$PYENV_ROOT/bin:$PATH\"\n",
            "eval \"$(pyenv init -)\"\n",
            "\n",
            "# Restart your shell for the changes to take effect.\n",
            "\n",
            "# Load pyenv-virtualenv automatically by adding\n",
            "# the following to ~/.bashrc:\n",
            "\n",
            "eval \"$(pyenv virtualenv-init -)\"\n",
            "\n"
          ]
        }
      ]
    },
    {
      "cell_type": "code",
      "source": [
        "!echo 'export PATH=\"$HOME/.pyenv/bin:$PATH\"' >> ~/.bashrc\n",
        "!echo 'eval \"$(pyenv init -)\"' >> ~/.bashrc\n",
        "!echo 'eval \"$(pyenv virtualenv-init -)\"' >> ~/.bashrc\n",
        "!exec \"$SHELL\""
      ],
      "metadata": {
        "colab": {
          "base_uri": "https://localhost:8080/"
        },
        "id": "qI_XEGvK8ybK",
        "outputId": "3931e1c1-ee81-4877-ef0b-68c691802b41"
      },
      "execution_count": null,
      "outputs": [
        {
          "output_type": "stream",
          "name": "stdout",
          "text": [
            "bash: cannot set terminal process group (393): Inappropriate ioctl for device\n",
            "bash: no job control in this shell\n",
            "\u001b[01;34m/content/defensegan\u001b[00m# \n",
            "\u001b[01;34m/content/defensegan\u001b[00m# \n",
            "\u001b[01;34m/content/defensegan\u001b[00m# ^C\n"
          ]
        }
      ]
    },
    {
      "cell_type": "code",
      "source": [
        "!pyenv install 2.7.18"
      ],
      "metadata": {
        "colab": {
          "base_uri": "https://localhost:8080/"
        },
        "id": "bdC_TFLAA0SO",
        "outputId": "ae4d5421-e93f-4282-8583-233e26bdc17f"
      },
      "execution_count": null,
      "outputs": [
        {
          "output_type": "stream",
          "name": "stdout",
          "text": [
            "/bin/bash: pyenv: command not found\n"
          ]
        }
      ]
    },
    {
      "cell_type": "code",
      "source": [
        "!pip install tf-slim\n",
        "import tf_slim as slim"
      ],
      "metadata": {
        "colab": {
          "base_uri": "https://localhost:8080/",
          "height": 450
        },
        "id": "UY60jyMlzy2h",
        "outputId": "fd072fc6-3d88-48ef-fe52-a9d33cc9e627"
      },
      "execution_count": 12,
      "outputs": [
        {
          "output_type": "stream",
          "name": "stdout",
          "text": [
            "Looking in indexes: https://pypi.org/simple, https://us-python.pkg.dev/colab-wheels/public/simple/\n",
            "Collecting tf-slim\n",
            "  Downloading tf_slim-1.1.0-py2.py3-none-any.whl (352 kB)\n",
            "\u001b[K     |████████████████████████████████| 352 kB 12.9 MB/s \n",
            "\u001b[?25hCollecting absl-py>=0.2.2\n",
            "  Downloading absl-py-0.15.0.tar.gz (114 kB)\n",
            "\u001b[K     |████████████████████████████████| 114 kB 85.4 MB/s \n",
            "\u001b[?25hCollecting six\n",
            "  Downloading six-1.16.0-py2.py3-none-any.whl (11 kB)\n",
            "Collecting enum34\n",
            "  Downloading enum34-1.1.10-py2-none-any.whl (11 kB)\n",
            "Building wheels for collected packages: absl-py\n",
            "  Building wheel for absl-py (setup.py) ... \u001b[?25l\u001b[?25hdone\n",
            "  Created wheel for absl-py: filename=absl_py-0.15.0-py2-none-any.whl size=132009 sha256=fc6ba9ed1e141470bfa6d8c08311b37f3d54bf5dd577cf9c0191d89998b7b9bd\n",
            "  Stored in directory: /root/.cache/pip/wheels/fd/44/71/68b195f38ba3088221a3ec364865a7e1374e65b4346396b329\n",
            "Successfully built absl-py\n",
            "Installing collected packages: six, enum34, absl-py, tf-slim\n",
            "Successfully installed absl-py-0.15.0 enum34-1.1.10 six-1.16.0 tf-slim-1.1.0\n"
          ]
        },
        {
          "output_type": "display_data",
          "data": {
            "application/vnd.colab-display-data+json": {
              "pip_warning": {
                "packages": [
                  "six"
                ]
              }
            }
          },
          "metadata": {}
        }
      ]
    }
  ]
}